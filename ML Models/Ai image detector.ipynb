{
  "nbformat": 4,
  "nbformat_minor": 0,
  "metadata": {
    "colab": {
      "provenance": []
    },
    "kernelspec": {
      "name": "python3",
      "display_name": "Python 3"
    },
    "language_info": {
      "name": "python"
    }
  },
  "cells": [
    {
      "cell_type": "code",
      "execution_count": null,
      "metadata": {
        "id": "MTJMvyUlUD1k"
      },
      "outputs": [],
      "source": [
        "import cv2\n",
        "import numpy as np\n",
        "from PIL import Image\n",
        "from PIL.ExifTags import TAGS\n",
        "import time\n",
        "\n",
        "def check_metadata(image_path):\n",
        "    try:\n",
        "        with Image.open(image_path) as img:\n",
        "            exif_data = img._getexif()\n",
        "            if not exif_data:\n",
        "                return False\n",
        "\n",
        "            # Check for common EXIF tags that should be present in genuine photos\n",
        "            required_tags = ['Make', 'Model', 'DateTime']\n",
        "            present_tags = sum(1 for tag in required_tags if any(TAGS.get(key) == tag for key in exif_data))\n",
        "            return present_tags >= 2  # Allow for some flexibility\n",
        "    except Exception:\n",
        "        return False\n",
        "\n",
        "def detect_visual_artifacts(image_path):\n",
        "    img = cv2.imread(image_path)\n",
        "    if img is None:\n",
        "        return True  # Consider unreadable images as suspicious\n",
        "\n",
        "    gray = cv2.cvtColor(img, cv2.COLOR_BGR2GRAY)\n",
        "\n",
        "    # Check for unrealistic smoothness\n",
        "    blurred = cv2.GaussianBlur(gray, (5, 5), 0)\n",
        "    diff = cv2.absdiff(gray, blurred)\n",
        "    _, thresh = cv2.threshold(diff, 15, 255, cv2.THRESH_BINARY)\n",
        "    smooth_ratio = 1 - (np.count_nonzero(thresh) / thresh.size)\n",
        "\n",
        "    # Check for symmetry\n",
        "    height, width = gray.shape\n",
        "    left_half = gray[:, :width//2]\n",
        "    right_half = cv2.flip(gray[:, width//2:], 1)\n",
        "    symmetry_score = np.mean(cv2.absdiff(left_half, right_half))\n",
        "\n",
        "    # Edge detection to check for unnatural sharpness\n",
        "    edges = cv2.Canny(gray, 100, 200)\n",
        "    edge_ratio = np.count_nonzero(edges) / edges.size\n",
        "\n",
        "    # Combine checks\n",
        "    smoothness_check = smooth_ratio > 0.98\n",
        "    symmetry_check = symmetry_score < 5\n",
        "    edge_check = edge_ratio < 0.01 or edge_ratio > 0.2\n",
        "\n",
        "    return (smoothness_check and symmetry_check) or (smoothness_check and edge_check)\n",
        "\n",
        "def is_likely_ai_generated(image_path):\n",
        "    start_time = time.time()\n",
        "\n",
        "    metadata_check = not check_metadata(image_path)\n",
        "    artifact_check = detect_visual_artifacts(image_path)\n",
        "\n",
        "    processing_time = time.time() - start_time\n",
        "    print(f\"Processing time: {processing_time:.2f} seconds\")\n",
        "\n",
        "    # Combine checks with weights\n",
        "    ai_score = (0.6 * metadata_check) + (0.4 * artifact_check)\n",
        "    return ai_score > 0.5, ai_score\n",
        "\n",
        "\n"
      ]
    },
    {
      "cell_type": "code",
      "source": [
        "image_path = \"/content/mobile-01.jpg\"\n",
        "result, confidence = is_likely_ai_generated(image_path)\n",
        "print(f\"Is the image likely AI-generated? {result} (Confidence: {confidence:.2f})\")"
      ],
      "metadata": {
        "colab": {
          "base_uri": "https://localhost:8080/"
        },
        "id": "phLwy_aanJ14",
        "outputId": "b23b8fe5-4168-4944-81eb-e2211f98ef83"
      },
      "execution_count": null,
      "outputs": [
        {
          "output_type": "stream",
          "name": "stdout",
          "text": [
            "Processing time: 0.02 seconds\n",
            "Is the image likely AI-generated? True (Confidence: 0.60)\n"
          ]
        }
      ]
    },
    {
      "cell_type": "code",
      "source": [],
      "metadata": {
        "id": "LmzqzUB7kSkp"
      },
      "execution_count": null,
      "outputs": []
    }
  ]
}